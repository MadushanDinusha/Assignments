{
 "cells": [
  {
   "cell_type": "code",
   "execution_count": 66,
   "metadata": {},
   "outputs": [],
   "source": [
    "import nltk\n",
    "import pandas as pd\n",
    "from nltk.tokenize import RegexpTokenizer\n",
    "from nltk.corpus import stopwords\n",
    "import os\n",
    "import codecs"
   ]
  },
  {
   "cell_type": "code",
   "execution_count": 67,
   "metadata": {},
   "outputs": [],
   "source": [
    "def list_files(dir):\n",
    "    r = []\n",
    "    for root, dirs, files in os.walk(dir):\n",
    "        for name in files:\n",
    "            r.append(os.path.join(root, name))\n",
    "    return r\n",
    "files = list_files('/home/wishwa/COSC/ML/20news-bydate-train')\n"
   ]
  },
  {
   "cell_type": "code",
   "execution_count": 68,
   "metadata": {},
   "outputs": [],
   "source": [
    "def process_files(file):\n",
    "    wtxt = codecs.open(file,encoding='utf-8', errors='ignore').read()\n",
    "    stopWords = set(stopwords.words('english'))\n",
    "    tokenizer = RegexpTokenizer(r'[a-z,A-Z]{2,}')\n",
    "    token=tokenizer.tokenize(wtxt)\n",
    "    lt=[]\n",
    "    for w in token:\n",
    "        if w not in stopWords:\n",
    "            lt.append(w.lower())\n",
    "    return lt"
   ]
  },
  {
   "cell_type": "code",
   "execution_count": 69,
   "metadata": {},
   "outputs": [],
   "source": [
    "comp=[]\n",
    "rec=[]\n",
    "sci=[]\n",
    "talk=[]\n",
    "other=[]\n",
    "for fname in files:\n",
    "    if \"comp\" in fname:\n",
    "        for w in process_files(fname):\n",
    "            if w not in comp:\n",
    "                comp.append(w)\n",
    "    elif \"rec\" in fname:\n",
    "        for w in process_files(fname):\n",
    "            if w not in rec:\n",
    "                rec.append(w)\n",
    "    elif \"sci\" in fname:\n",
    "        for w in process_files(fname):\n",
    "            if w not in sci:\n",
    "                sci.append(w)\n",
    "    elif \"talk\" in fname:\n",
    "        for w in process_files(fname):\n",
    "            if w not in talk:\n",
    "                talk.append(w)\n",
    "    else:\n",
    "        for w in process_files(fname):\n",
    "            if w not in other:\n",
    "                other.append(w)\n"
   ]
  },
  {
   "cell_type": "code",
   "execution_count": 72,
   "metadata": {},
   "outputs": [],
   "source": [
    "df_comp = pd.DataFrame(comp)\n",
    "df_comp.to_csv('comp.csv', index=False, header=False)\n",
    "df_rec = pd.DataFrame(rec)\n",
    "df_rec.to_csv('rec.csv', index=False, header=False)\n",
    "df_sci = pd.DataFrame(sci)\n",
    "df_sci.to_csv('sci.csv', index=False, header=False)\n",
    "df_talk = pd.DataFrame(talk)\n",
    "df_talk.to_csv('talk.csv', index=False, header=False)\n",
    "df_other = pd.DataFrame(other)\n",
    "df_other.to_csv('other.csv', index=False, header=False)"
   ]
  },
  {
   "cell_type": "code",
   "execution_count": null,
   "metadata": {},
   "outputs": [],
   "source": []
  },
  {
   "cell_type": "code",
   "execution_count": null,
   "metadata": {},
   "outputs": [],
   "source": []
  },
  {
   "cell_type": "code",
   "execution_count": null,
   "metadata": {},
   "outputs": [],
   "source": []
  },
  {
   "cell_type": "code",
   "execution_count": null,
   "metadata": {},
   "outputs": [],
   "source": []
  },
  {
   "cell_type": "code",
   "execution_count": null,
   "metadata": {},
   "outputs": [],
   "source": []
  },
  {
   "cell_type": "code",
   "execution_count": null,
   "metadata": {},
   "outputs": [],
   "source": []
  },
  {
   "cell_type": "code",
   "execution_count": null,
   "metadata": {},
   "outputs": [],
   "source": []
  },
  {
   "cell_type": "code",
   "execution_count": null,
   "metadata": {},
   "outputs": [],
   "source": []
  }
 ],
 "metadata": {
  "kernelspec": {
   "display_name": "Python 3",
   "language": "python",
   "name": "python3"
  },
  "language_info": {
   "codemirror_mode": {
    "name": "ipython",
    "version": 3
   },
   "file_extension": ".py",
   "mimetype": "text/x-python",
   "name": "python",
   "nbconvert_exporter": "python",
   "pygments_lexer": "ipython3",
   "version": "3.6.5"
  }
 },
 "nbformat": 4,
 "nbformat_minor": 2
}
